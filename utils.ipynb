{
  "nbformat": 4,
  "nbformat_minor": 0,
  "metadata": {
    "colab": {
      "provenance": []
    },
    "kernelspec": {
      "name": "python3",
      "display_name": "Python 3"
    },
    "language_info": {
      "name": "python"
    }
  },
  "cells": [
    {
      "cell_type": "markdown",
      "source": [
        "## Mesh paramaters export into json file"
      ],
      "metadata": {
        "id": "VDFjaaNOj24c"
      }
    },
    {
      "cell_type": "code",
      "execution_count": null,
      "metadata": {
        "id": "dt_YEObgjohB"
      },
      "outputs": [],
      "source": [
        "import torch\n",
        "import json\n",
        "\n",
        "# Example: Load a model and print its structure\n",
        "file_path = \"model_params.pt\"\n",
        "output_json_path = \"model_params_bear_lowpoly.json\"\n",
        "\n",
        "try:\n",
        "    model_weights = torch.load(file_path)\n",
        "    print(\"Model weights loaded successfully!\")\n",
        "    alpha = model_weights.get('_alpha', None)\n",
        "    scale = model_weights.get('_scale', None)\n",
        "\n",
        "    if alpha is not None and scale is not None:\n",
        "        alpha_np = alpha[0].detach().cpu().numpy() #if gs_type==multimesh, otherwise alpha.detach(), scale.detach()\n",
        "        scale_np = scale[0].detach().cpu().numpy()\n",
        "\n",
        "        model_data = {\n",
        "            \"_alpha\": alpha_np.tolist(),\n",
        "            \"_scale\": scale_np.tolist()\n",
        "         }\n",
        "        with open(output_json_path, 'w') as json_file:\n",
        "            json.dump(model_data, json_file)\n",
        "\n",
        "        print(f\"JSON file saved successfully at {output_json_path}!\")\n",
        "\n",
        "    else:\n",
        "         print(\"No scale, alpha found in the saved parameters.\")\n",
        "except Exception as e:\n",
        "    print(f\"Error loading model: {e}\")"
      ]
    },
    {
      "cell_type": "markdown",
      "source": [
        "## Obj to ply mesh export using trimesh\n",
        "\n",
        "```\n",
        "# This is formatted as code\n",
        "```\n",
        "\n"
      ],
      "metadata": {
        "id": "Ib0U3DomkiWg"
      }
    },
    {
      "cell_type": "code",
      "source": [
        "!pip install trimesh\n",
        "\n",
        "# Import the required library\n",
        "import trimesh"
      ],
      "metadata": {
        "colab": {
          "base_uri": "https://localhost:8080/"
        },
        "id": "dVnydVrQkork",
        "outputId": "e4292f2a-5484-4129-ceb6-d5cfed76d019"
      },
      "execution_count": 1,
      "outputs": [
        {
          "output_type": "stream",
          "name": "stdout",
          "text": [
            "Collecting trimesh\n",
            "  Downloading trimesh-4.6.9-py3-none-any.whl.metadata (18 kB)\n",
            "Requirement already satisfied: numpy>=1.20 in /usr/local/lib/python3.11/dist-packages (from trimesh) (2.0.2)\n",
            "Downloading trimesh-4.6.9-py3-none-any.whl (711 kB)\n",
            "\u001b[2K   \u001b[90m━━━━━━━━━━━━━━━━━━━━━━━━━━━━━━━━━━━━━━━━\u001b[0m \u001b[32m711.1/711.1 kB\u001b[0m \u001b[31m9.7 MB/s\u001b[0m eta \u001b[36m0:00:00\u001b[0m\n",
            "\u001b[?25hInstalling collected packages: trimesh\n",
            "Successfully installed trimesh-4.6.9\n"
          ]
        }
      ]
    },
    {
      "cell_type": "code",
      "source": [
        "path = '/content'  # Replace with your path where the mesh.obj is located\n",
        "file_name = f'{path}/mesh.obj'"
      ],
      "metadata": {
        "id": "kbeUPgHjlDlO"
      },
      "execution_count": 2,
      "outputs": []
    },
    {
      "cell_type": "code",
      "source": [
        "mesh = trimesh.load(file_name , force='mesh')\n",
        "\n",
        "ply_bytes = trimesh.exchange.ply.export_ply(mesh, encoding='ascii')\n",
        "\n",
        "with open(\"mesh.ply\", \"wb\") as f:\n",
        "    f.write(ply_bytes)\n",
        "\n",
        "print(\"PLY file successfully exported as 'mesh.ply'.\")"
      ],
      "metadata": {
        "colab": {
          "base_uri": "https://localhost:8080/"
        },
        "id": "cvka9nlYk639",
        "outputId": "5c0f9d5a-7fec-42d5-d586-95532bdac347"
      },
      "execution_count": 3,
      "outputs": [
        {
          "output_type": "stream",
          "name": "stdout",
          "text": [
            "PLY file successfully exported as 'mesh.ply'.\n"
          ]
        }
      ]
    },
    {
      "cell_type": "code",
      "source": [],
      "metadata": {
        "id": "ivmPdFbxlg-X"
      },
      "execution_count": null,
      "outputs": []
    }
  ]
}